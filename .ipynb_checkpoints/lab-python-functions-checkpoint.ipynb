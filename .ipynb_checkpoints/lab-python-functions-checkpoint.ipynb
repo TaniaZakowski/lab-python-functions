{
 "cells": [
  {
   "cell_type": "markdown",
   "id": "25d7736c-ba17-4aff-b6bb-66eba20fbf4e",
   "metadata": {},
   "source": [
    "# Lab | Functions"
   ]
  },
  {
   "cell_type": "markdown",
   "id": "0c581062-8967-4d93-b06e-62833222f930",
   "metadata": {
    "tags": []
   },
   "source": [
    "## Exercise: Managing Customer Orders with Functions\n",
    "\n",
    "In the previous exercise, you improved the code for managing customer orders by using loops and flow control. Now, let's take it a step further and refactor the code by introducing functions.\n",
    "\n",
    "Follow the steps below to complete the exercise:\n",
    "\n",
    "1. Define a function named `initialize_inventory` that takes `products` as a parameter. Inside the function, implement the code for initializing the inventory dictionary using a loop and user input.\n",
    "\n",
    "2. Define a function named `get_customer_orders` that takes no parameters. Inside the function, implement the code for prompting the user to enter the product names using a loop. The function should return the `customer_orders` set.\n",
    "\n",
    "3. Define a function named `update_inventory` that takes `customer_orders` and `inventory` as parameters. Inside the function, implement the code for updating the inventory dictionary based on the customer orders.\n",
    "\n",
    "4. Define a function named `calculate_order_statistics` that takes `customer_orders` and `products` as parameters. Inside the function, implement the code for calculating the order statistics (total products ordered, and percentage of unique products ordered). The function should return these values.\n",
    "\n",
    "5. Define a function named `print_order_statistics` that takes `order_statistics` as a parameter. Inside the function, implement the code for printing the order statistics.\n",
    "\n",
    "6. Define a function named `print_updated_inventory` that takes `inventory` as a parameter. Inside the function, implement the code for printing the updated inventory.\n",
    "\n",
    "7. Call the functions in the appropriate sequence to execute the program and manage customer orders.\n",
    "\n",
    "Hints for functions:\n",
    "\n",
    "- Consider the input parameters required for each function and their return values.\n",
    "- Utilize function parameters and return values to transfer data between functions.\n",
    "- Test your functions individually to ensure they work correctly.\n",
    "\n",
    "\n"
   ]
  },
  {
   "cell_type": "code",
   "execution_count": null,
   "id": "c7f54ba4-21d5-40ab-b8cd-59e4683763ae",
   "metadata": {},
   "outputs": [],
   "source": [
    "products=[\"t-shirt\", \"mug\", \"hat\", \"book\", \"keychain\"]\n",
    "inventory={}\n",
    "def initialize_inventory(products):\n",
    "        \n",
    "    for product in products:\n",
    "        quantity = int(input(f\"Enter the quantity for {product}: \"))\n",
    "        inventory[product] = quantity\n",
    "    return inventory\n",
    "    "
   ]
  },
  {
   "cell_type": "code",
   "execution_count": null,
   "id": "c879b0b4-6ac7-4393-bd7f-a6730bdb9eec",
   "metadata": {},
   "outputs": [],
   "source": [
    "initialize_inventory(products)"
   ]
  },
  {
   "cell_type": "code",
   "execution_count": null,
   "id": "589e1bd8-9036-4bd1-9cf4-559387cc5796",
   "metadata": {},
   "outputs": [],
   "source": [
    "customer_orders=set()\n",
    "def get_customer_orders():\n",
    "    print(\"Please choose products from:\", products)\n",
    "    while True:\n",
    "    \n",
    "        add_more = input(\"Do you want to add a product to your order? (yes/no): \").strip().lower()\n",
    "        if add_more == \"yes\":\n",
    "            new_element = input(\"Enter the product you want to add: \").strip()\n",
    "            customer_orders.add(new_element)\n",
    "            print(f\"Current list: {customer_orders}\")\n",
    "        else:\n",
    "            break\n",
    "\n",
    "    print(\"Your order:\", customer_orders)\n",
    "    return customer_orders\n"
   ]
  },
  {
   "cell_type": "code",
   "execution_count": null,
   "id": "57248fc9-ecb9-46a7-8d51-9d5ce3a5b22d",
   "metadata": {},
   "outputs": [],
   "source": [
    "get_customer_orders()"
   ]
  },
  {
   "cell_type": "code",
   "execution_count": null,
   "id": "92a99401-f015-44cc-b432-1012e8508597",
   "metadata": {},
   "outputs": [],
   "source": [
    "def update_inventory(customer_orders,inventory):\n",
    "    order=list(customer_orders)\n",
    "    for product in products:  \n",
    "        if product in order:      \n",
    "            inventory[product]=int(inventory[product])-1\n",
    "        else:\n",
    "            inventory[product]=int(inventory[product])\n",
    "    return inventory"
   ]
  },
  {
   "cell_type": "code",
   "execution_count": null,
   "id": "148b2682-3edd-4516-a63f-42f8a4dc98e3",
   "metadata": {},
   "outputs": [],
   "source": [
    "print(inventory)"
   ]
  },
  {
   "cell_type": "code",
   "execution_count": null,
   "id": "b3d422cf-7f64-40e0-aee3-d4794534e271",
   "metadata": {},
   "outputs": [],
   "source": [
    "order_statistics=[]\n",
    "def calculate_order_statistics(customer_orders,products):\n",
    "    total_products_ordered=(len(customer_orders))\n",
    "    order_statistics.append(total_products_ordered)\n",
    "    nb_products_initial=len(products)\n",
    "    percent_ordered=total_products_ordered/nb_products_initial*100\n",
    "    order_statistics.append(percent_ordered)\n",
    "    return order_statistics\n"
   ]
  },
  {
   "cell_type": "code",
   "execution_count": null,
   "id": "f56a31cb-0863-4549-a155-f8dd202cce31",
   "metadata": {},
   "outputs": [],
   "source": [
    "calculate_order_statistics(customer_orders,products)"
   ]
  },
  {
   "cell_type": "code",
   "execution_count": null,
   "id": "4ab792fc-222c-43c0-a77f-68a267747627",
   "metadata": {},
   "outputs": [],
   "source": [
    "def print_order_statistics(order_statistics):\n",
    "    print(\"percent_ordered: \",order_statistics[0])\n",
    "    print(\"nb_products_initial: \",order_statistics[1])\n",
    "    return"
   ]
  },
  {
   "cell_type": "code",
   "execution_count": null,
   "id": "4b7f14a0-8336-44ee-8a3b-8bd858ac04e1",
   "metadata": {},
   "outputs": [],
   "source": [
    "print_order_statistics(order_statistics)"
   ]
  },
  {
   "cell_type": "code",
   "execution_count": null,
   "id": "e0b3f68a-cbd2-4479-a679-6bfb34fd33ad",
   "metadata": {},
   "outputs": [],
   "source": [
    "def print_updated_inventory(inventory):\n",
    "    for p in inventory:\n",
    "        print(p,\" : \",inventory[p])\n",
    "    return"
   ]
  },
  {
   "cell_type": "code",
   "execution_count": null,
   "id": "b37b671d-58e5-4d0b-ac01-098f72a99f18",
   "metadata": {},
   "outputs": [],
   "source": [
    "print_updated_inventory(inventory)"
   ]
  },
  {
   "cell_type": "code",
   "execution_count": null,
   "id": "02ed23fd-7a03-4981-9574-91df95590a56",
   "metadata": {},
   "outputs": [],
   "source": []
  }
 ],
 "metadata": {
  "kernelspec": {
   "display_name": "Python 3 (ipykernel)",
   "language": "python",
   "name": "python3"
  },
  "language_info": {
   "codemirror_mode": {
    "name": "ipython",
    "version": 3
   },
   "file_extension": ".py",
   "mimetype": "text/x-python",
   "name": "python",
   "nbconvert_exporter": "python",
   "pygments_lexer": "ipython3",
   "version": "3.11.7"
  }
 },
 "nbformat": 4,
 "nbformat_minor": 5
}
